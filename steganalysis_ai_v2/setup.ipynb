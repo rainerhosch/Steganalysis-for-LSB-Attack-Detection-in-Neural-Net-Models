{
 "cells": [
  {
   "cell_type": "markdown",
   "id": "335a9ec2",
   "metadata": {},
   "source": [
    "# Setup Structrur Project"
   ]
  },
  {
   "cell_type": "markdown",
   "id": "d8081bab",
   "metadata": {},
   "source": [
    "#### *SETUP Config*"
   ]
  },
  {
   "cell_type": "code",
   "execution_count": 2,
   "id": "0e6198bf",
   "metadata": {},
   "outputs": [],
   "source": [
    "import os\n",
    "\n",
    "def setup():\n",
    "    # Folder structure sesuai struktur yang diinginkan\n",
    "    folders = [\n",
    "        \"models/cover\",\n",
    "        \"models/stego\",\n",
    "        \"models/trained\",\n",
    "        \"datasets/cifar10\",\n",
    "        \"datasets/mnist\",\n",
    "        \"src\",\n",
    "        \"data/features\",\n",
    "        \"data/results\",\n",
    "        \"notebooks\"\n",
    "    ]\n",
    "    # File structure (relative path: content)\n",
    "    files = {\n",
    "        \"src/__init__.py\": \"\",\n",
    "        \"src/model_acquisition.py\": \"\",\n",
    "        \"src/stego_injection.py\": \"\",\n",
    "        \"src/feature_extraction.py\": \"\",\n",
    "        \"src/feature_selection.py\": \"\",\n",
    "        \"src/classifier.py\": \"\",\n",
    "        \"src/utils.py\": \"\",\n",
    "        \"src/config.py\": \"\",\n",
    "        \"notebooks/01_data_preparation.ipynb\": \"\",\n",
    "        \"notebooks/02_feature_extraction.ipynb\": \"\",\n",
    "        \"notebooks/03_training_evaluation.ipynb\": \"\",\n",
    "        \"main.py\": \"\",\n",
    "        \"requirements.txt\": \"\",\n",
    "        \"README.md\": \"\"\n",
    "    }\n",
    "\n",
    "    # Create folders\n",
    "    for folder in folders:\n",
    "        os.makedirs(folder, exist_ok=True)\n",
    "\n",
    "    # Create files\n",
    "    for file_path, content in files.items():\n",
    "        dir_name = os.path.dirname(file_path)\n",
    "        if dir_name and not os.path.exists(dir_name):\n",
    "            os.makedirs(dir_name, exist_ok=True)\n",
    "        with open(file_path, \"w\", encoding=\"utf-8\") as f:\n",
    "            f.write(content)"
   ]
  },
  {
   "cell_type": "markdown",
   "id": "e5b57b5c",
   "metadata": {},
   "source": [
    "#### # Jalankan fungsi untuk membuat struktur"
   ]
  },
  {
   "cell_type": "code",
   "execution_count": null,
   "id": "727b26c4",
   "metadata": {},
   "outputs": [],
   "source": [
    "setup()"
   ]
  }
 ],
 "metadata": {
  "kernelspec": {
   "display_name": "thesis-py310",
   "language": "python",
   "name": "python3"
  },
  "language_info": {
   "codemirror_mode": {
    "name": "ipython",
    "version": 3
   },
   "file_extension": ".py",
   "mimetype": "text/x-python",
   "name": "python",
   "nbconvert_exporter": "python",
   "pygments_lexer": "ipython3",
   "version": "3.10.18"
  }
 },
 "nbformat": 4,
 "nbformat_minor": 5
}
