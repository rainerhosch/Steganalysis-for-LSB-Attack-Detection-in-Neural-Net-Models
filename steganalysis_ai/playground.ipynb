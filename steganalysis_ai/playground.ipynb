{
 "cells": [
  {
   "cell_type": "markdown",
   "id": "335a9ec2",
   "metadata": {},
   "source": [
    "# Setup Structrur Project"
   ]
  },
  {
   "cell_type": "markdown",
   "id": "d8081bab",
   "metadata": {},
   "source": [
    "#### *SETUP CODE*"
   ]
  },
  {
   "cell_type": "code",
   "execution_count": 1,
   "id": "0e6198bf",
   "metadata": {},
   "outputs": [],
   "source": [
    "import os\n",
    "\n",
    "def create_structure():\n",
    "    # Folder structure\n",
    "    folders = [\n",
    "        \"data/models\",\n",
    "        \"data/cover\",\n",
    "        \"data/stego\",\n",
    "        \"data/datasets\",\n",
    "        \"src\",\n",
    "        \"notebooks\",\n",
    "        \"results/features\",\n",
    "        \"results/models\",\n",
    "        \"results/visualizations\"\n",
    "    ]\n",
    "    # File structure (relative path: content)\n",
    "    files = {\n",
    "        \"src/model_acquisition.py\": \"\",\n",
    "        \"src/stego_generator.py\": \"\",\n",
    "        \"src/feature_extractor.py\": \"\",\n",
    "        \"src/pso_optimizer.py\": \"\",\n",
    "        \"src/classifier.py\": \"\",\n",
    "        \"src/utils.py\": \"\",\n",
    "        \"src/config.py\": \"\",\n",
    "        \"notebooks/1_data_preparation.ipynb\": \"\",\n",
    "        \"notebooks/2_feature_extraction.ipynb\": \"\",\n",
    "        \"notebooks/3_pso_optimization.ipynb\": \"\",\n",
    "        \"notebooks/4_classification_evaluation.ipynb\": \"\",\n",
    "        \"results/evaluation_results.csv\": \"\",\n",
    "        \"main.py\": \"\",\n",
    "        \"requirements.txt\": \"\",\n",
    "        \"README.md\": \"\"\n",
    "    }\n",
    "\n",
    "    # Create folders\n",
    "    for folder in folders:\n",
    "        os.makedirs(folder, exist_ok=True)\n",
    "\n",
    "    # Create files\n",
    "    for file_path, content in files.items():\n",
    "        dir_name = os.path.dirname(file_path)\n",
    "        if dir_name and not os.path.exists(dir_name):\n",
    "            os.makedirs(dir_name, exist_ok=True)\n",
    "        with open(file_path, \"w\", encoding=\"utf-8\") as f:\n",
    "            f.write(content)"
   ]
  },
  {
   "cell_type": "code",
   "execution_count": 2,
   "id": "727b26c4",
   "metadata": {},
   "outputs": [],
   "source": [
    "\n",
    "# Jalankan fungsi untuk membuat struktur\n",
    "create_structure()\n"
   ]
  }
 ],
 "metadata": {
  "kernelspec": {
   "display_name": "thesis-py310",
   "language": "python",
   "name": "python3"
  },
  "language_info": {
   "codemirror_mode": {
    "name": "ipython",
    "version": 3
   },
   "file_extension": ".py",
   "mimetype": "text/x-python",
   "name": "python",
   "nbconvert_exporter": "python",
   "pygments_lexer": "ipython3",
   "version": "3.10.18"
  }
 },
 "nbformat": 4,
 "nbformat_minor": 5
}
