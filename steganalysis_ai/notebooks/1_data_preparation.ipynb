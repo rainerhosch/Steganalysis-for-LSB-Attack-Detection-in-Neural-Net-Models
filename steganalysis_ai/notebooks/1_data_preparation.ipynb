{
 "cells": [
  {
   "cell_type": "code",
   "execution_count": 17,
   "id": "3f1b467d",
   "metadata": {},
   "outputs": [],
   "source": [
    "import numpy as np\n",
    "import pandas as pd\n",
    "import os\n",
    "import sys\n",
    "\n",
    "# Tambahkan path ke folder src\n",
    "sys.path.append(os.path.abspath(os.path.join('..', 'src')))\n",
    "\n",
    "from model_acquisition import ModelAcquisition\n",
    "from stego_generator import StegoGenerator\n",
    "from feature_extractor import FeatureExtractor\n",
    "from pso_optimizer import PSOFeatureSelector\n",
    "from classifier import StegoClassifier\n",
    "from config import Config"
   ]
  },
  {
   "cell_type": "code",
   "execution_count": 18,
   "id": "c22539cb",
   "metadata": {},
   "outputs": [],
   "source": [
    "config = Config()"
   ]
  },
  {
   "cell_type": "code",
   "execution_count": 19,
   "id": "5fd17442",
   "metadata": {},
   "outputs": [
    {
     "name": "stdout",
     "output_type": "stream",
     "text": [
      "=== AI STEGANALYSIS RESEARCH PIPELINE ===\n",
      "\n",
      "1. Downloading pre-trained models...\n"
     ]
    },
    {
     "name": "stderr",
     "output_type": "stream",
     "text": [
      "c:\\Users\\oktan\\anaconda3\\envs\\thesis-py310\\lib\\site-packages\\torchvision\\models\\_utils.py:208: UserWarning: The parameter 'pretrained' is deprecated since 0.13 and may be removed in the future, please use 'weights' instead.\n",
      "  warnings.warn(\n",
      "c:\\Users\\oktan\\anaconda3\\envs\\thesis-py310\\lib\\site-packages\\torchvision\\models\\_utils.py:223: UserWarning: Arguments other than a weight enum or `None` for 'weights' are deprecated since 0.13 and may be removed in the future. The current behavior is equivalent to passing `weights=ResNet50_Weights.IMAGENET1K_V1`. You can also use `weights=ResNet50_Weights.DEFAULT` to get the most up-to-date weights.\n",
      "  warnings.warn(msg)\n"
     ]
    },
    {
     "name": "stdout",
     "output_type": "stream",
     "text": [
      "Downloaded ResNet50\n"
     ]
    },
    {
     "name": "stderr",
     "output_type": "stream",
     "text": [
      "c:\\Users\\oktan\\anaconda3\\envs\\thesis-py310\\lib\\site-packages\\torchvision\\models\\_utils.py:223: UserWarning: Arguments other than a weight enum or `None` for 'weights' are deprecated since 0.13 and may be removed in the future. The current behavior is equivalent to passing `weights=MobileNet_V3_Small_Weights.IMAGENET1K_V1`. You can also use `weights=MobileNet_V3_Small_Weights.DEFAULT` to get the most up-to-date weights.\n",
      "  warnings.warn(msg)\n",
      "Downloading: \"https://download.pytorch.org/models/mobilenet_v3_small-047dcff4.pth\" to C:\\Users\\oktan/.cache\\torch\\hub\\checkpoints\\mobilenet_v3_small-047dcff4.pth\n",
      "100%|██████████| 9.83M/9.83M [00:01<00:00, 10.2MB/s]\n"
     ]
    },
    {
     "name": "stdout",
     "output_type": "stream",
     "text": [
      "Downloaded MobileNetV3 Small\n",
      "Saved weights for resnet50\n",
      "Saved weights for mobilenet_v3_small\n"
     ]
    }
   ],
   "source": [
    "print(\"=== AI STEGANALYSIS RESEARCH PIPELINE ===\")\n",
    "    \n",
    "# 1. Akuisisi Model\n",
    "print(\"\\n1. Downloading pre-trained models...\")\n",
    "model_acq = ModelAcquisition()\n",
    "clean_models = model_acq.download_pytorch_models()\n",
    "    \n",
    "# Simpan model cover\n",
    "for model_name, model in clean_models.items():\n",
    "    model_acq.save_model_weights(model, model_name)"
   ]
  },
  {
   "cell_type": "code",
   "execution_count": 34,
   "id": "2d32ce62",
   "metadata": {},
   "outputs": [
    {
     "name": "stdout",
     "output_type": "stream",
     "text": [
      "\n",
      "2. Generating stego models...\n",
      "Created stego model: resnet50_rate_0.001_bit_0\n",
      "Created stego model: resnet50_rate_0.001_bit_1\n",
      "Created stego model: resnet50_rate_0.001_bit_2\n",
      "Created stego model: resnet50_rate_0.005_bit_0\n",
      "Created stego model: resnet50_rate_0.005_bit_1\n",
      "Created stego model: resnet50_rate_0.005_bit_2\n",
      "Created stego model: resnet50_rate_0.01_bit_0\n",
      "Created stego model: resnet50_rate_0.01_bit_1\n",
      "Created stego model: resnet50_rate_0.01_bit_2\n",
      "Created stego model: resnet50_rate_0.05_bit_0\n",
      "Created stego model: resnet50_rate_0.05_bit_1\n",
      "Created stego model: resnet50_rate_0.05_bit_2\n",
      "Created stego model: resnet50_rate_0.1_bit_0\n",
      "Created stego model: resnet50_rate_0.1_bit_1\n",
      "Created stego model: resnet50_rate_0.1_bit_2\n",
      "Created stego model: mobilenet_v3_small_rate_0.001_bit_0\n",
      "Created stego model: mobilenet_v3_small_rate_0.001_bit_1\n",
      "Created stego model: mobilenet_v3_small_rate_0.001_bit_2\n",
      "Created stego model: mobilenet_v3_small_rate_0.005_bit_0\n",
      "Created stego model: mobilenet_v3_small_rate_0.005_bit_1\n",
      "Created stego model: mobilenet_v3_small_rate_0.005_bit_2\n",
      "Created stego model: mobilenet_v3_small_rate_0.01_bit_0\n",
      "Created stego model: mobilenet_v3_small_rate_0.01_bit_1\n",
      "Created stego model: mobilenet_v3_small_rate_0.01_bit_2\n",
      "Created stego model: mobilenet_v3_small_rate_0.05_bit_0\n",
      "Created stego model: mobilenet_v3_small_rate_0.05_bit_1\n",
      "Created stego model: mobilenet_v3_small_rate_0.05_bit_2\n",
      "Created stego model: mobilenet_v3_small_rate_0.1_bit_0\n",
      "Created stego model: mobilenet_v3_small_rate_0.1_bit_1\n",
      "Created stego model: mobilenet_v3_small_rate_0.1_bit_2\n"
     ]
    }
   ],
   "source": [
    "# 2. Generate Stego Models\n",
    "print(\"\\n2. Generating stego models...\")\n",
    "stego_gen = StegoGenerator()\n",
    "# Pass state_dict() instead of model object to create_stego_models\n",
    "clean_model_weights = {name: model.state_dict() for name, model in clean_models.items()}\n",
    "stego_models = stego_gen.create_stego_models(clean_model_weights)"
   ]
  },
  {
   "cell_type": "code",
   "execution_count": 36,
   "id": "28d8a72d",
   "metadata": {},
   "outputs": [],
   "source": [
    "# 3. Ekstraksi Fitur\n",
    "feature_extractor = FeatureExtractor()\n",
    "    \n",
    "cover_features = []\n",
    "stego_features = []"
   ]
  },
  {
   "cell_type": "code",
   "execution_count": 41,
   "id": "3253f59d",
   "metadata": {},
   "outputs": [
    {
     "name": "stdout",
     "output_type": "stream",
     "text": [
      "\n",
      "3. Extracting features Cover Models...\n"
     ]
    },
    {
     "ename": "RuntimeError",
     "evalue": "[enforce fail at alloc_cpu.cpp:114] data. DefaultCPUAllocator: not enough memory: you tried to allocate 52229963776 bytes.",
     "output_type": "error",
     "traceback": [
      "\u001b[1;31m---------------------------------------------------------------------------\u001b[0m",
      "\u001b[1;31mRuntimeError\u001b[0m                              Traceback (most recent call last)",
      "Cell \u001b[1;32mIn[41], line 4\u001b[0m\n\u001b[0;32m      2\u001b[0m \u001b[38;5;28mprint\u001b[39m(\u001b[38;5;124m\"\u001b[39m\u001b[38;5;130;01m\\n\u001b[39;00m\u001b[38;5;124m3. Extracting features Cover Models...\u001b[39m\u001b[38;5;124m\"\u001b[39m)\n\u001b[0;32m      3\u001b[0m \u001b[38;5;28;01mfor\u001b[39;00m model_name, model \u001b[38;5;129;01min\u001b[39;00m clean_models\u001b[38;5;241m.\u001b[39mitems():\n\u001b[1;32m----> 4\u001b[0m     features \u001b[38;5;241m=\u001b[39m \u001b[43mfeature_extractor\u001b[49m\u001b[38;5;241;43m.\u001b[39;49m\u001b[43mextract_all_features\u001b[49m\u001b[43m(\u001b[49m\u001b[43mmodel\u001b[49m\u001b[38;5;241;43m.\u001b[39;49m\u001b[43mstate_dict\u001b[49m\u001b[43m(\u001b[49m\u001b[43m)\u001b[49m\u001b[43m)\u001b[49m\n\u001b[0;32m      5\u001b[0m     cover_features\u001b[38;5;241m.\u001b[39mappend(\u001b[38;5;28mlist\u001b[39m(features\u001b[38;5;241m.\u001b[39mvalues()))\n\u001b[0;32m      6\u001b[0m     \u001b[38;5;28mprint\u001b[39m(\u001b[38;5;124mf\u001b[39m\u001b[38;5;124m\"\u001b[39m\u001b[38;5;124mExtracted features from cover model: \u001b[39m\u001b[38;5;132;01m{\u001b[39;00mmodel_name\u001b[38;5;132;01m}\u001b[39;00m\u001b[38;5;124m\"\u001b[39m)\n",
      "File \u001b[1;32mc:\\Users\\oktan\\OneDrive\\Documents\\KAMPUS\\Kuliah\\Semester 4\\THESIS\\Steganalysis-for-LSB-Attack-Detection-in-Neural-Net-Models\\steganalysis_ai\\src\\feature_extractor.py:128\u001b[0m, in \u001b[0;36mFeatureExtractor.extract_all_features\u001b[1;34m(self, model_weights, test_data)\u001b[0m\n\u001b[0;32m    125\u001b[0m features \u001b[38;5;241m=\u001b[39m {}\n\u001b[0;32m    127\u001b[0m \u001b[38;5;66;03m# Fitur numerik\u001b[39;00m\n\u001b[1;32m--> 128\u001b[0m numerical_features \u001b[38;5;241m=\u001b[39m \u001b[38;5;28;43mself\u001b[39;49m\u001b[38;5;241;43m.\u001b[39;49m\u001b[43mextract_numerical_features\u001b[49m\u001b[43m(\u001b[49m\u001b[43mmodel_weights\u001b[49m\u001b[43m,\u001b[49m\u001b[43m \u001b[49m\u001b[43mtest_data\u001b[49m\u001b[43m)\u001b[49m\n\u001b[0;32m    129\u001b[0m features\u001b[38;5;241m.\u001b[39mupdate(numerical_features)\n\u001b[0;32m    131\u001b[0m \u001b[38;5;66;03m# Fitur entropi\u001b[39;00m\n",
      "File \u001b[1;32mc:\\Users\\oktan\\OneDrive\\Documents\\KAMPUS\\Kuliah\\Semester 4\\THESIS\\Steganalysis-for-LSB-Attack-Detection-in-Neural-Net-Models\\steganalysis_ai\\src\\feature_extractor.py:36\u001b[0m, in \u001b[0;36mFeatureExtractor.extract_numerical_features\u001b[1;34m(self, model_weights, test_data)\u001b[0m\n\u001b[0;32m     33\u001b[0m features \u001b[38;5;241m=\u001b[39m {}\n\u001b[0;32m     35\u001b[0m \u001b[38;5;66;03m# Reconstruction Loss\u001b[39;00m\n\u001b[1;32m---> 36\u001b[0m reconstruction_loss \u001b[38;5;241m=\u001b[39m \u001b[38;5;28;43mself\u001b[39;49m\u001b[38;5;241;43m.\u001b[39;49m\u001b[43mcalculate_reconstruction_loss\u001b[49m\u001b[43m(\u001b[49m\u001b[43mmodel_weights\u001b[49m\u001b[43m)\u001b[49m\n\u001b[0;32m     37\u001b[0m features[\u001b[38;5;124m'\u001b[39m\u001b[38;5;124mreconstruction_loss\u001b[39m\u001b[38;5;124m'\u001b[39m] \u001b[38;5;241m=\u001b[39m reconstruction_loss\n\u001b[0;32m     39\u001b[0m \u001b[38;5;66;03m# Gradients (jika test data tersedia)\u001b[39;00m\n",
      "File \u001b[1;32mc:\\Users\\oktan\\OneDrive\\Documents\\KAMPUS\\Kuliah\\Semester 4\\THESIS\\Steganalysis-for-LSB-Attack-Detection-in-Neural-Net-Models\\steganalysis_ai\\src\\feature_extractor.py:58\u001b[0m, in \u001b[0;36mFeatureExtractor.calculate_reconstruction_loss\u001b[1;34m(self, model_weights)\u001b[0m\n\u001b[0;32m     55\u001b[0m input_dim \u001b[38;5;241m=\u001b[39m \u001b[38;5;28mlen\u001b[39m(all_weights)\n\u001b[0;32m     57\u001b[0m \u001b[38;5;66;03m# Inisialisasi dan train autoencoder\u001b[39;00m\n\u001b[1;32m---> 58\u001b[0m autoencoder \u001b[38;5;241m=\u001b[39m \u001b[43mAutoencoder\u001b[49m\u001b[43m(\u001b[49m\u001b[43minput_dim\u001b[49m\u001b[43m,\u001b[49m\u001b[43m \u001b[49m\u001b[38;5;28;43mself\u001b[39;49m\u001b[38;5;241;43m.\u001b[39;49m\u001b[43mconfig\u001b[49m\u001b[38;5;241;43m.\u001b[39;49m\u001b[43mAUTOENCODER_HIDDEN_DIM\u001b[49m\u001b[43m)\u001b[49m\n\u001b[0;32m     60\u001b[0m \u001b[38;5;66;03m# Training sederhana (dalam praktik nyata, butuh training yang proper)\u001b[39;00m\n\u001b[0;32m     61\u001b[0m weights_tensor \u001b[38;5;241m=\u001b[39m torch\u001b[38;5;241m.\u001b[39mFloatTensor(all_weights)\u001b[38;5;241m.\u001b[39munsqueeze(\u001b[38;5;241m0\u001b[39m)\n",
      "File \u001b[1;32mc:\\Users\\oktan\\OneDrive\\Documents\\KAMPUS\\Kuliah\\Semester 4\\THESIS\\Steganalysis-for-LSB-Attack-Detection-in-Neural-Net-Models\\steganalysis_ai\\src\\feature_extractor.py:11\u001b[0m, in \u001b[0;36mAutoencoder.__init__\u001b[1;34m(self, input_dim, hidden_dim)\u001b[0m\n\u001b[0;32m      8\u001b[0m \u001b[38;5;28;01mdef\u001b[39;00m\u001b[38;5;250m \u001b[39m\u001b[38;5;21m__init__\u001b[39m(\u001b[38;5;28mself\u001b[39m, input_dim, hidden_dim):\n\u001b[0;32m      9\u001b[0m     \u001b[38;5;28msuper\u001b[39m(Autoencoder, \u001b[38;5;28mself\u001b[39m)\u001b[38;5;241m.\u001b[39m\u001b[38;5;21m__init__\u001b[39m()\n\u001b[0;32m     10\u001b[0m     \u001b[38;5;28mself\u001b[39m\u001b[38;5;241m.\u001b[39mencoder \u001b[38;5;241m=\u001b[39m nn\u001b[38;5;241m.\u001b[39mSequential(\n\u001b[1;32m---> 11\u001b[0m         \u001b[43mnn\u001b[49m\u001b[38;5;241;43m.\u001b[39;49m\u001b[43mLinear\u001b[49m\u001b[43m(\u001b[49m\u001b[43minput_dim\u001b[49m\u001b[43m,\u001b[49m\u001b[43m \u001b[49m\u001b[43mhidden_dim\u001b[49m\u001b[43m)\u001b[49m,\n\u001b[0;32m     12\u001b[0m         nn\u001b[38;5;241m.\u001b[39mReLU(),\n\u001b[0;32m     13\u001b[0m         nn\u001b[38;5;241m.\u001b[39mLinear(hidden_dim, hidden_dim \u001b[38;5;241m/\u001b[39m\u001b[38;5;241m/\u001b[39m \u001b[38;5;241m2\u001b[39m),\n\u001b[0;32m     14\u001b[0m         nn\u001b[38;5;241m.\u001b[39mReLU()\n\u001b[0;32m     15\u001b[0m     )\n\u001b[0;32m     16\u001b[0m     \u001b[38;5;28mself\u001b[39m\u001b[38;5;241m.\u001b[39mdecoder \u001b[38;5;241m=\u001b[39m nn\u001b[38;5;241m.\u001b[39mSequential(\n\u001b[0;32m     17\u001b[0m         nn\u001b[38;5;241m.\u001b[39mLinear(hidden_dim \u001b[38;5;241m/\u001b[39m\u001b[38;5;241m/\u001b[39m \u001b[38;5;241m2\u001b[39m, hidden_dim),\n\u001b[0;32m     18\u001b[0m         nn\u001b[38;5;241m.\u001b[39mReLU(),\n\u001b[0;32m     19\u001b[0m         nn\u001b[38;5;241m.\u001b[39mLinear(hidden_dim, input_dim)\n\u001b[0;32m     20\u001b[0m     )\n",
      "File \u001b[1;32mc:\\Users\\oktan\\anaconda3\\envs\\thesis-py310\\lib\\site-packages\\torch\\nn\\modules\\linear.py:106\u001b[0m, in \u001b[0;36mLinear.__init__\u001b[1;34m(self, in_features, out_features, bias, device, dtype)\u001b[0m\n\u001b[0;32m    103\u001b[0m \u001b[38;5;28mself\u001b[39m\u001b[38;5;241m.\u001b[39min_features \u001b[38;5;241m=\u001b[39m in_features\n\u001b[0;32m    104\u001b[0m \u001b[38;5;28mself\u001b[39m\u001b[38;5;241m.\u001b[39mout_features \u001b[38;5;241m=\u001b[39m out_features\n\u001b[0;32m    105\u001b[0m \u001b[38;5;28mself\u001b[39m\u001b[38;5;241m.\u001b[39mweight \u001b[38;5;241m=\u001b[39m Parameter(\n\u001b[1;32m--> 106\u001b[0m     torch\u001b[38;5;241m.\u001b[39mempty((out_features, in_features), \u001b[38;5;241m*\u001b[39m\u001b[38;5;241m*\u001b[39mfactory_kwargs)\n\u001b[0;32m    107\u001b[0m )\n\u001b[0;32m    108\u001b[0m \u001b[38;5;28;01mif\u001b[39;00m bias:\n\u001b[0;32m    109\u001b[0m     \u001b[38;5;28mself\u001b[39m\u001b[38;5;241m.\u001b[39mbias \u001b[38;5;241m=\u001b[39m Parameter(torch\u001b[38;5;241m.\u001b[39mempty(out_features, \u001b[38;5;241m*\u001b[39m\u001b[38;5;241m*\u001b[39mfactory_kwargs))\n",
      "\u001b[1;31mRuntimeError\u001b[0m: [enforce fail at alloc_cpu.cpp:114] data. DefaultCPUAllocator: not enough memory: you tried to allocate 52229963776 bytes."
     ]
    }
   ],
   "source": [
    "# Ekstrak fitur model cover\n",
    "print(\"\\n3. Extracting features Cover Models...\")\n",
    "for model_name, model in clean_models.items():\n",
    "    features = feature_extractor.extract_all_features(model.state_dict())\n",
    "    cover_features.append(list(features.values()))\n",
    "    print(f\"Extracted features from cover model: {model_name}\")"
   ]
  }
 ],
 "metadata": {
  "kernelspec": {
   "display_name": "thesis-py310",
   "language": "python",
   "name": "python3"
  },
  "language_info": {
   "codemirror_mode": {
    "name": "ipython",
    "version": 3
   },
   "file_extension": ".py",
   "mimetype": "text/x-python",
   "name": "python",
   "nbconvert_exporter": "python",
   "pygments_lexer": "ipython3",
   "version": "3.10.18"
  }
 },
 "nbformat": 4,
 "nbformat_minor": 5
}
